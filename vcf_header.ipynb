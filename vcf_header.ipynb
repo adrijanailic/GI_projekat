{
 "cells": [
  {
   "cell_type": "code",
   "execution_count": 4,
   "metadata": {},
   "outputs": [],
   "source": [
    "import datetime\n",
    "\n",
    "x = datetime.datetime.now() \n",
    "\n",
    "with open('vcf4-2.txt', 'w') as vcf:\n",
    "    fileformat = '##fileformat=VCFv4.2'\n",
    "    date = x.strftime('%Y%m%d')\n",
    "    source = '##source=Jadranka&Suki'\n",
    "    filedate = '##fileDate='+date\n",
    "    reference = '##reference=file:///sbgenomics/Projects/4dc3fffd-51c3-42f3-885b-8b18384be984/human_g1k_v37_decoy.fasta'\n",
    "    vcf.write(fileformat+'\\n' + filedate + '\\n' + source + '\\n' + reference + '\\n')\n",
    "    with open('/sbgenomics/project-files/human_g1k_v37_decoy.fasta.fai','r') as fai:\n",
    "        for line in fai:\n",
    "            split_line = line.split(\"\\t\")\n",
    "            ID = split_line[0]\n",
    "            length = split_line[1]\n",
    "            contig = '##contig=<ID=' + str(ID) + ', length=' + str(length) + '>'\n",
    "            vcf.write(contig + '\\n')\n",
    "    fai.close()\n",
    "    filter = '##FILTER=<ID=PASS,Description=\"All filters passed\">'\n",
    "    vcf.write(filter + '\\n')\n",
    "    vcf.write('#CHROM' + '\\t' + 'POS' + '\\t' + 'ID' + '\\t' + 'REF' + '\\t' + 'ALT' + '\\t' + 'QUAL' + '\\t' + 'FILTER' + '\\t' + 'INFO' + '\\t' + 'FORMAT' + '\\t' + 'NA00001' + '\\t' + 'NA00002' + '\\t' + 'NA00003' + '\\n')\n",
    "    \n",
    "        \n",
    "            \n",
    "            "
   ]
  }
 ],
 "metadata": {
  "kernelspec": {
   "display_name": "Python 3",
   "language": "python",
   "name": "python3"
  },
  "language_info": {
   "codemirror_mode": {
    "name": "ipython",
    "version": 3
   },
   "file_extension": ".py",
   "mimetype": "text/x-python",
   "name": "python",
   "nbconvert_exporter": "python",
   "pygments_lexer": "ipython3",
   "version": "3.6.3"
  }
 },
 "nbformat": 4,
 "nbformat_minor": 2
}
