{
 "cells": [
  {
   "cell_type": "code",
   "execution_count": 9,
   "metadata": {},
   "outputs": [],
   "source": [
    "import pandas as pd\n",
    "import numpy as np\n",
    "import vcf\n",
    "import time\n",
    "import re"
   ]
  },
  {
   "cell_type": "code",
   "execution_count": 10,
   "metadata": {},
   "outputs": [],
   "source": [
    "class Pileup_line:\n",
    "    def __init__(self, line): \n",
    "        split_line = line.split(\"\\t\")\n",
    "        self.sequence = split_line[0]\n",
    "        self.position = split_line[1]\n",
    "        self.ref_base = split_line[2]\n",
    "        self.read_count = split_line[3]\n",
    "        self.read_results = split_line[4]\n",
    "        self.base_quality = split_line[5]\n",
    "        self.mapping_quality = split_line[6]\n",
    "        \n",
    "    # Pomocna funkcija za racunanje kvaliteta baze iz odgovarajuceg ascii karaktera\n",
    "    # Phred quality score: https://en.wikipedia.org/wiki/Phred_quality_score\n",
    "    def calc_base_quality(ascii_char):\n",
    "        return 1-10**(-ord(ascii_char)/10)\n",
    "    \n",
    "    # Ista funkcija kao gore, samo sto se prosledi redni broj baze/read-a\n",
    "    def calc_base_quality(self, base_num):\n",
    "        # base_num < self.read_count !!!!\n",
    "        return 1-10**(-ord(self.base_quality[base_num])/10)\n",
    "    \n",
    "    # Pomocna funkcija za racunanje broja pojavljivanja karaktera u stringu\n",
    "    # Ovo sam mislila za prebrojavanje npr baza koje se poklapaju sa referentnom tj. broj . u read_results\n",
    "    def num_of_occurence(self, char):\n",
    "        return self.read_results.count(char)\n",
    "    \n",
    "    def count(self):\n",
    "        #treba resiti pocetak i kraj stringa tj ^neki_znak i neki_znak$ ignorisati\n",
    "        \n",
    "        #sa ovim ispod izvrsavanje koda traje 28sekundi\n",
    "        #posle ^ moze da ide bilo koji karakter, ukljucujuci i one bitne pa sa ovom linijom to brisem da ne bismo pogresno racunale\n",
    "        #self.read_results = re.sub(r\"\\^.\",'',self.read_results) \n",
    "\n",
    "        \n",
    "        num_C = self.read_results.count('g') + self.read_results.count('C')\n",
    "        num_G = self.read_results.count('c') + self.read_results.count('G')\n",
    "        num_A = self.read_results.count('t') + self.read_results.count('A')\n",
    "        num_T = self.read_results.count('a') + self.read_results.count('T')\n",
    "        num_match = self.read_results.count('.') + self.read_results.count(',')\n",
    "        num_deletions = self.read_results.count('*') + self.read_results.count('-')\n",
    "        num_insertions = self.read_results.count('+')\n",
    "        \n",
    "        if self.ref_base == 'C':\n",
    "            num_C += num_match\n",
    "        elif self.ref_base == 'G':\n",
    "            num_G += num_match\n",
    "        elif self.ref_base == 'A':\n",
    "            num_A += num_match\n",
    "        elif self.ref_base == 'T':\n",
    "            num_T += num_match\n",
    "        \n"
   ]
  },
  {
   "cell_type": "code",
   "execution_count": 11,
   "metadata": {},
   "outputs": [
    {
     "name": "stdout",
     "output_type": "stream",
     "text": [
      "28.33063554763794\n"
     ]
    }
   ],
   "source": [
    "with open('/sbgenomics/project-files/merged-normal_pileup.pileup', 'r') as pileup_file:\n",
    "    start = time.time()\n",
    "    i = 0\n",
    "    for line in pileup_file:\n",
    "        a = Pileup_line(line)\n",
    "        '''print(line)\n",
    "        print(a.num_of_occurence(','))\n",
    "        i+=1\n",
    "        if i==30: \n",
    "            break'''\n",
    "        a.count()\n",
    "    end = time.time()\n",
    "    print(end-start)"
   ]
  },
  {
   "cell_type": "code",
   "execution_count": 17,
   "metadata": {},
   "outputs": [
    {
     "ename": "OSError",
     "evalue": "[Errno 30] Read-only file system: '/sbgenomics/project-files/proba_sloboda.txt'",
     "output_type": "error",
     "traceback": [
      "\u001b[0;31m---------------------------------------------------------------------------\u001b[0m",
      "\u001b[0;31mOSError\u001b[0m                                   Traceback (most recent call last)",
      "\u001b[0;32m<ipython-input-17-3512da95569f>\u001b[0m in \u001b[0;36m<module>\u001b[0;34m()\u001b[0m\n\u001b[1;32m      5\u001b[0m \u001b[0;34m\u001b[0m\u001b[0m\n\u001b[1;32m      6\u001b[0m \u001b[0mvcf_reader\u001b[0m \u001b[0;34m=\u001b[0m \u001b[0mvcf\u001b[0m\u001b[0;34m.\u001b[0m\u001b[0mReader\u001b[0m\u001b[0;34m(\u001b[0m\u001b[0mfilename\u001b[0m\u001b[0;34m=\u001b[0m\u001b[0;34m'/sbgenomics/project-files/mpileupvcf.mpileup.called.vcf'\u001b[0m\u001b[0;34m)\u001b[0m\u001b[0;34m\u001b[0m\u001b[0m\n\u001b[0;32m----> 7\u001b[0;31m \u001b[0mvcf_writer\u001b[0m \u001b[0;34m=\u001b[0m \u001b[0mvcf\u001b[0m\u001b[0;34m.\u001b[0m\u001b[0mWriter\u001b[0m\u001b[0;34m(\u001b[0m\u001b[0mopen\u001b[0m\u001b[0;34m(\u001b[0m\u001b[0;34m'/sbgenomics/project-files/proba_sloboda.txt'\u001b[0m\u001b[0;34m,\u001b[0m \u001b[0;34m'wb'\u001b[0m\u001b[0;34m)\u001b[0m\u001b[0;34m,\u001b[0m \u001b[0mvcf_reader\u001b[0m\u001b[0;34m)\u001b[0m\u001b[0;34m\u001b[0m\u001b[0m\n\u001b[0m\u001b[1;32m      8\u001b[0m \u001b[0;32mfor\u001b[0m \u001b[0mrecord\u001b[0m \u001b[0;32min\u001b[0m \u001b[0mvcf_reader\u001b[0m\u001b[0;34m:\u001b[0m\u001b[0;34m\u001b[0m\u001b[0m\n\u001b[1;32m      9\u001b[0m     \u001b[0mvcf_writer\u001b[0m\u001b[0;34m.\u001b[0m\u001b[0mwrite_record\u001b[0m\u001b[0;34m(\u001b[0m\u001b[0mrecord\u001b[0m\u001b[0;34m)\u001b[0m\u001b[0;34m\u001b[0m\u001b[0m\n",
      "\u001b[0;31mOSError\u001b[0m: [Errno 30] Read-only file system: '/sbgenomics/project-files/proba_sloboda.txt'"
     ]
    }
   ],
   "source": [
    "#https://pyvcf.readthedocs.io/en/v0.6.0/_modules/vcf.html\n",
    "'''vcf_reader = vcf.Reader(open('/sbgenomics/project-files/mpileupvcf.mpileup.called.vcf', 'r'))\n",
    "for record in vcf_reader:\n",
    "    print(record.REF)'''\n",
    "    \n",
    "vcf_reader = vcf.Reader(filename='/sbgenomics/project-files/mpileupvcf.mpileup.called.vcf')\n",
    "vcf_writer = vcf.Writer(open('/sbgenomics/project-files/proba_sloboda.txt', 'w'), vcf_reader)\n",
    "for record in vcf_reader:\n",
    "    vcf_writer.write_record(record)\n",
    "    break"
   ]
  }
 ],
 "metadata": {
  "kernelspec": {
   "display_name": "Python 3",
   "language": "python",
   "name": "python3"
  },
  "language_info": {
   "codemirror_mode": {
    "name": "ipython",
    "version": 3
   },
   "file_extension": ".py",
   "mimetype": "text/x-python",
   "name": "python",
   "nbconvert_exporter": "python",
   "pygments_lexer": "ipython3",
   "version": "3.6.3"
  }
 },
 "nbformat": 4,
 "nbformat_minor": 2
}
