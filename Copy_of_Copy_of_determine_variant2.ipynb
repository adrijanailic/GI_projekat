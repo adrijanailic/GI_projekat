{
  "nbformat": 4,
  "nbformat_minor": 0,
  "metadata": {
    "colab": {
      "name": "Copy of Copy of determine_variant2.ipynb",
      "provenance": [],
      "collapsed_sections": [],
      "include_colab_link": true
    },
    "kernelspec": {
      "name": "python3",
      "display_name": "Python 3"
    }
  },
  "cells": [
    {
      "cell_type": "markdown",
      "metadata": {
        "id": "view-in-github",
        "colab_type": "text"
      },
      "source": [
        "<a href=\"https://colab.research.google.com/github/adrijanailic/GI_projekat/blob/master/Copy_of_Copy_of_determine_variant2.ipynb\" target=\"_parent\"><img src=\"https://colab.research.google.com/assets/colab-badge.svg\" alt=\"Open In Colab\"/></a>"
      ]
    },
    {
      "cell_type": "code",
      "metadata": {
        "id": "UyReP0U7rrzj",
        "colab_type": "code",
        "colab": {}
      },
      "source": [
        "import collections\n",
        "import re\n",
        "import numpy as np\n",
        "\n",
        "def ideal_rr_count(read_result, read_count):\n",
        "    # read_result je string pa mogu odmah da promijenim , u .\n",
        "    # i mala slova u velika\n",
        "    read_result = read_result.replace(',','.').upper()\n",
        "    char_counter = collections.Counter(read_result).most_common() # Prebroji karaktere i poreda ih od najcescih do najrjedje  \n",
        "    var_list = char_counter \n",
        "    return var_list\n",
        "\n",
        "# Funkcija za izdvajanjanje insercija ili delecija ili oboje istovremeno, iz originalnog stringa read_result\n",
        "# Povratna vrijednost su dvije lista, prva lista je lista tacaka, zareza i mozda drugih karaktera\n",
        "# Druga lista je lista insercija i delecija\n",
        "def segregate_indels(read_result):\n",
        "  # Iskoristila sam re, da na laksi nacin pronadjem brojeve, jer su oni zajednicki za insercije i delecije\n",
        "  # Mozda je ovo moguce napraviti i tako sto se prvo read result iz stringa prebaci u array, ali da se pripazi na visecifrene brojeve\n",
        "  # Pa da se iskoristi np.findall ili slicno da se nadju ti brojevi, i njihovi indeksi i na slican nacin kao u ovom kodu, izbace odgovarajuci el iz tog arraya\n",
        "  numbers = np.array([int(m) for m in re.findall('[\\d]+', read_result)])\n",
        "  # Indeksi brojeva\n",
        "  indices = np.array([m.span() for m in re.finditer('[\\d]+', read_result)])\n",
        "  # String -> np.array\n",
        "  read_result = np.array([char for char in read_result])\n",
        "  # Formiram listu uredjenih dvojki kojih ima koliko i indelsa, a prvi broj u toj dvojki odgovara pocetnom indeksu insercije, tj tacki ili zarezu, \n",
        "  # A drugi broj odgovara indeksu na kom se nalazi zadnji element te insercije\n",
        "  ranges = [(index[0]-2,index[1]+numbers[i]) for i,index in enumerate(indices)]\n",
        "  # Formiranje liste insercija na koju je moguce primjeniti collection.counter\n",
        "  indels_list = []\n",
        "  for item in ranges:\n",
        "    indels_list.append(''.join(read_result[item[0]:item[1]]))\n",
        "\n",
        "  # Brisanje insercija iz read_results\n",
        "  indices_for_removing = []\n",
        "  for item in ranges:\n",
        "    indices_for_removing.extend([*range(item[0],item[1])])\n",
        "  read_result = np.delete(read_result,indices_for_removing)\n",
        "  # read_result to string\n",
        "  read_result = ''.join(read_result[:])\n",
        "\n",
        "  return read_result, indels_list\n",
        "\n",
        "def delete_carets(read_result):\n",
        "  # Pomocu re nadjem sve indekse u read_results gdje se nalazi kapica\n",
        "  #indices = np.array([m.start() for m in re.finditer('\\^', read_result)])\n",
        "  # Azuriraj listu indeksa, jer je potrebno ukloniti i onaj indeks poslije indeksa kapice\n",
        "  #indices = np.concatenate((indices, indices+1))\n",
        "  #read_result = np.array([char for char in read_result])\n",
        "  #read_result = np.delete(rr_list, indices)  \n",
        "  read_result = re.sub('\\^.','',read_result)\n",
        "  return read_result\n",
        "\n",
        "def determine_variant(read_result):\n",
        "\n",
        "  # Ovo je prva opcija, znaci da koristim find koja ce samo da posluzi za flag\n",
        "  ins = read_result.find(\"+\") # Flag za inserciju\n",
        "  dele = read_result.find(\"-\") # Flag za deleciju\n",
        "  car = read_result.find(\"^\") # Flag za caret\n",
        "  # Druga opcija je da koristim re bibl da nadjem odmah i indekse svih insercija, delecija i kapica, kako bih onda mogla da ih izbacim\n",
        "  # Zasad ostavljam prvu opciju\n",
        "  \n",
        "  if ins == -1 and dele == -1 and car == -1:\n",
        "    print(\"No insertion, deletions or carets\")\n",
        "    list_of_vars = ideal_rr_count(read_result)\n",
        "    # TO DO\n",
        "    #Varijanta1 = list_of_vars[0]\n",
        "    #Varijanta2 = list_of_vars[1]\n",
        "    Varijanta1 = Variants(list_of_vars[0][0],list_of_vars[0][1], read_count)\n",
        "    Varijanta2 = Variants(list_of_vars[1][0],list_of_vars[1][1], read_count)\n",
        "\n",
        "  # Sljedeci slucaj je da nemamo ni insercija ni delecija samo kapicu imamo, izbrisemo kapicu i znak pored, i primjenimo ovo gore\n",
        "  elif (car != -1) and (ins == -1 and dele == -1):\n",
        "    print(\"Carets yes, no indels\")\n",
        "    read_result = delete_carets(read_result)\n",
        "    # Prakticno smo dobili idealan read result i mozemo pozvati funkciju ideal_rr_count\n",
        "    list_of_vars = ideal_rr_count(read_result)\n",
        "\n",
        "    #Varijanta1 = list_of_vars[0]\n",
        "    #Varijanta2 = list_of_vars[1]\n",
        "    Varijanta1 = Variants(list_of_vars[0][0],list_of_vars[0][1], read_count)\n",
        "    Varijanta2 = Variants(list_of_vars[1][0],list_of_vars[1][1], read_count)\n",
        "\n",
        "  # Ukoliko imam insercije ili delecije, ili oboje istovremeno\n",
        "  elif (ins != -1) or (dele != -1):\n",
        "    # Provjeri ima li kapica\n",
        "    if car != -1:\n",
        "      print(\"Carets! Oh, no!!!\")\n",
        "      read_result = delete_carets(read_result)\n",
        "\n",
        "    print(\"No carets\")\n",
        "    read_result, indels_list = segregate_indels(read_result)\n",
        "\n",
        "    # zarezi -> tacke, mala slova -> VELIKA SLOVA\n",
        "    indels_list = [s.replace(',','.') for s in indels_list]\n",
        "    number_of_insertions = collections.Counter(map(str.upper, indels_list)).most_common()\n",
        "\n",
        "    # Pozvati ideal_rr_count na read_result\n",
        "    list_of_vars = ideal_rr_count(read_result)\n",
        "    list_of_vars.extend(number_of_insertions)\n",
        "    list_of_vars = sorted(list_of_vars, key=lambda tup: tup[1], reverse = True)\n",
        "    print(list_of_vars)\n",
        "\n",
        "    #Varijanta1 = list_of_vars[0]\n",
        "    #Varijanta2 = list_of_vars[1]\n",
        "\n",
        "    Varijanta1 = Variants(list_of_vars[0][0],list_of_vars[0][1], read_count)\n",
        "    Varijanta2 = Variants(list_of_vars[1][0],list_of_vars[1][1], read_count)\n",
        "\n",
        "  return [Varijanta1, Varijanta2]"
      ],
      "execution_count": 0,
      "outputs": []
    },
    {
      "cell_type": "code",
      "metadata": {
        "id": "ArrDtSW0fwid",
        "colab_type": "code",
        "colab": {}
      },
      "source": [
        "assert ideal_rr_count('...,,,AAGGgg..Tccccc,,,$$**..**atttttttC,,') == [('.', 15), ('T', 8), ('C', 6), ('G', 4), ('*', 4), ('A', 3), ('$', 2)]"
      ],
      "execution_count": 0,
      "outputs": []
    },
    {
      "cell_type": "code",
      "metadata": {
        "id": "ufrmwnBkhBKk",
        "colab_type": "code",
        "colab": {}
      },
      "source": [
        "assert delete_carets('...^|,,^]$..^.') == '...,,$..'"
      ],
      "execution_count": 0,
      "outputs": []
    },
    {
      "cell_type": "code",
      "metadata": {
        "id": "kXAf1bW1sJ7g",
        "colab_type": "code",
        "colab": {}
      },
      "source": [
        "assert segregate_indels('...+1Aa,,,,-2gc....') == ('..a,,,....', ['.+1A', ',-2gc'])"
      ],
      "execution_count": 0,
      "outputs": []
    },
    {
      "cell_type": "code",
      "metadata": {
        "id": "-bd1InVowWVL",
        "colab_type": "code",
        "outputId": "bb85465a-2403-4f25-b0ac-086e3889e89f",
        "colab": {
          "base_uri": "https://localhost:8080/",
          "height": 90
        }
      },
      "source": [
        "determine_variant('....,,,,,AgcCg$$...^].+2AA,+2aa,+2aa.+2AA')"
      ],
      "execution_count": 0,
      "outputs": [
        {
          "output_type": "stream",
          "text": [
            "Carets! Oh, no!!!\n",
            "No carets\n",
            "[('.', 12), ('.+2AA', 4), ('G', 2), ('C', 2), ('$', 2), ('A', 1)]\n"
          ],
          "name": "stdout"
        },
        {
          "output_type": "execute_result",
          "data": {
            "text/plain": [
              "[('.', 12), ('.+2AA', 4)]"
            ]
          },
          "metadata": {
            "tags": []
          },
          "execution_count": 32
        }
      ]
    }
  ]
}